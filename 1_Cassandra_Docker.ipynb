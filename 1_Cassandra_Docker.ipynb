{
 "cells": [
  {
   "cell_type": "markdown",
   "metadata": {},
   "source": [
    "<img src='imgs/cassandra.svg' width='750'/>"
   ]
  },
  {
   "cell_type": "markdown",
   "metadata": {},
   "source": [
    "# docker"
   ]
  },
  {
   "cell_type": "code",
   "execution_count": 32,
   "metadata": {},
   "outputs": [
    {
     "name": "stdout",
     "output_type": "stream",
     "text": [
      "d9d964c7b15de9d1dca03a73be3b99a0bb96d2ce300be4f863537e73d7004e48\r\n"
     ]
    }
   ],
   "source": [
    "!docker run -d                   \\\n",
    "    -v ${PWD}/cassandra_vol:/ddl \\\n",
    "    -h cassandra                 \\\n",
    "    -p 7000:7000                 \\\n",
    "    -p 127.0.0.1:9042:9042       \\\n",
    "    -p 127.0.0.1:9160:9160       \\\n",
    "    --name cassandra             \\\n",
    "    cassandra:3.11"
   ]
  },
  {
   "cell_type": "markdown",
   "metadata": {},
   "source": [
    "# validate"
   ]
  },
  {
   "cell_type": "code",
   "execution_count": 33,
   "metadata": {},
   "outputs": [
    {
     "name": "stdout",
     "output_type": "stream",
     "text": [
      "d9d964c7b15d        cassandra:3.11        \"docker-entrypoint.s…\"   4 seconds ago       Up 3 seconds        7001/tcp, 127.0.0.1:9042->9042/tcp, 0.0.0.0:7000->7000/tcp, 7199/tcp, 127.0.0.1:9160->9160/tcp   cassandra\r\n"
     ]
    }
   ],
   "source": [
    "!docker ps | grep cassandra"
   ]
  },
  {
   "cell_type": "code",
   "execution_count": 34,
   "metadata": {},
   "outputs": [
    {
     "name": "stdout",
     "output_type": "stream",
     "text": [
      "cqlsh 5.0.1\r\n"
     ]
    }
   ],
   "source": [
    "!docker exec -w /ddl -it cassandra /usr/bin/cqlsh --version"
   ]
  },
  {
   "cell_type": "markdown",
   "metadata": {},
   "source": [
    "# DDL"
   ]
  },
  {
   "cell_type": "markdown",
   "metadata": {},
   "source": [
    "create keyspace"
   ]
  },
  {
   "cell_type": "code",
   "execution_count": 36,
   "metadata": {},
   "outputs": [],
   "source": [
    "!docker exec -it cassandra cqlsh -e \\\n",
    "\"CREATE KEYSPACE elk_c WITH replication = {'class': 'NetworkTopologyStrategy', 'datacenter1': '2'} AND durable_writes = true\""
   ]
  },
  {
   "cell_type": "markdown",
   "metadata": {},
   "source": [
    "create table"
   ]
  },
  {
   "cell_type": "code",
   "execution_count": 37,
   "metadata": {},
   "outputs": [],
   "source": [
    "!docker exec -it cassandra cqlsh -e \\\n",
    "\"use elk_c;CREATE TABLE employee(id int PRIMARY KEY,name text,city text,salary varint,phone varint)\""
   ]
  },
  {
   "cell_type": "code",
   "execution_count": 38,
   "metadata": {},
   "outputs": [
    {
     "name": "stdout",
     "output_type": "stream",
     "text": [
      "\r\n",
      "employee\r\n",
      "\r\n"
     ]
    }
   ],
   "source": [
    "!docker exec -it cassandra cqlsh -e 'use elk_c;describe tables;' "
   ]
  },
  {
   "cell_type": "code",
   "execution_count": 39,
   "metadata": {},
   "outputs": [
    {
     "name": "stdout",
     "output_type": "stream",
     "text": [
      "\r\n",
      "CREATE TABLE elk_c.employee (\r\n",
      "    id int PRIMARY KEY,\r\n",
      "    city text,\r\n",
      "    name text,\r\n",
      "    phone varint,\r\n",
      "    salary varint\r\n",
      ") WITH bloom_filter_fp_chance = 0.01\r\n",
      "    AND caching = {'keys': 'ALL', 'rows_per_partition': 'NONE'}\r\n",
      "    AND comment = ''\r\n",
      "    AND compaction = {'class': 'org.apache.cassandra.db.compaction.SizeTieredCompactionStrategy', 'max_threshold': '32', 'min_threshold': '4'}\r\n",
      "    AND compression = {'chunk_length_in_kb': '64', 'class': 'org.apache.cassandra.io.compress.LZ4Compressor'}\r\n",
      "    AND crc_check_chance = 1.0\r\n",
      "    AND dclocal_read_repair_chance = 0.1\r\n",
      "    AND default_time_to_live = 0\r\n",
      "    AND gc_grace_seconds = 864000\r\n",
      "    AND max_index_interval = 2048\r\n",
      "    AND memtable_flush_period_in_ms = 0\r\n",
      "    AND min_index_interval = 128\r\n",
      "    AND read_repair_chance = 0.0\r\n",
      "    AND speculative_retry = '99PERCENTILE';\r\n",
      "\r\n"
     ]
    }
   ],
   "source": [
    "!docker exec -it cassandra cqlsh -e 'use elk_c; describe employee;' "
   ]
  },
  {
   "cell_type": "markdown",
   "metadata": {},
   "source": [
    "# data"
   ]
  },
  {
   "cell_type": "markdown",
   "metadata": {},
   "source": [
    "generate some random data"
   ]
  },
  {
   "cell_type": "code",
   "execution_count": 40,
   "metadata": {},
   "outputs": [
    {
     "name": "stdout",
     "output_type": "stream",
     "text": [
      "1,Adam,NOLA,60,5551234\r\n",
      "2,Bob,LA,70,3331234\r\n",
      "3,Chuck,NYC,80,6661234\r\n",
      "4,Dave,BOS,90,9991234\r\n",
      "5,Earl,RAL,100,1111234\r\n"
     ]
    }
   ],
   "source": [
    "employees_csv = open('cassandra_vol/employees.csv', 'w')\n",
    "# id int PRIMARY KEY,\n",
    "# name text\n",
    "# city text\n",
    "# salary varint\n",
    "# phone varint\n",
    "employees_csv.write('1,Adam,NOLA,60,5551234\\n')\n",
    "employees_csv.write('2,Bob,LA,70,3331234\\n')\n",
    "employees_csv.write('3,Chuck,NYC,80,6661234\\n')\n",
    "employees_csv.write('4,Dave,BOS,90,9991234\\n')\n",
    "employees_csv.write('5,Earl,RAL,100,1111234\\n')\n",
    "\n",
    "employees_csv.flush()\n",
    "employees_csv.close()\n",
    "!cat cassandra_vol/employees.csv"
   ]
  },
  {
   "cell_type": "code",
   "execution_count": 41,
   "metadata": {},
   "outputs": [
    {
     "name": "stdout",
     "output_type": "stream",
     "text": [
      "Using 9 child processes\n",
      "\n",
      "Starting copy of elk_c.employee with columns [id, name, city, salary, phone].\n",
      "Processed: 5 rows; Rate:      16 rows/s; Avg. rate:      16 rows/sProcessed: 5 rows; Rate:       8 rows/s; Avg. rate:      12 rows/s\n",
      "5 rows imported from 1 files in 0.421 seconds (0 skipped).\n",
      "\n",
      "real\t0m0.949s\n",
      "user\t0m0.031s\n",
      "sys\t0m0.018s\n"
     ]
    }
   ],
   "source": [
    "!time docker exec -it cassandra cqlsh -e \\\n",
    "\"use elk_c;COPY employee(id,name,city,salary,phone) FROM '/ddl/employees.csv' WITH DELIMITER=','\""
   ]
  },
  {
   "cell_type": "markdown",
   "metadata": {},
   "source": [
    "# validate data"
   ]
  },
  {
   "cell_type": "code",
   "execution_count": 42,
   "metadata": {},
   "outputs": [
    {
     "name": "stdout",
     "output_type": "stream",
     "text": [
      "\n",
      " \u001b[0;1;35mcount\u001b[0m\n",
      "-------\n",
      "     \u001b[0;1;32m5\u001b[0m\n",
      "\n",
      "(1 rows)\n",
      "\n",
      "Warnings :\n",
      "Aggregation query used without partition key\n",
      "\n",
      "\n",
      "real\t0m0.552s\n",
      "user\t0m0.032s\n",
      "sys\t0m0.018s\n"
     ]
    }
   ],
   "source": [
    "!time docker exec -it cassandra \\\n",
    "cqlsh --connect-timeout 999 --request-timeout 999 \\\n",
    "-e \"use elk_c;select count(*) from employee\""
   ]
  },
  {
   "cell_type": "code",
   "execution_count": 43,
   "metadata": {},
   "outputs": [
    {
     "name": "stdout",
     "output_type": "stream",
     "text": [
      "\n",
      " \u001b[0;1;31mid\u001b[0m | \u001b[0;1;35mcity\u001b[0m | \u001b[0;1;35mname\u001b[0m  | \u001b[0;1;35mphone\u001b[0m   | \u001b[0;1;35msalary\u001b[0m\n",
      "----+------+-------+---------+--------\n",
      "  \u001b[0;1;32m5\u001b[0m |  \u001b[0;1;33mRAL\u001b[0m |  \u001b[0;1;33mEarl\u001b[0m | \u001b[0;1;32m1111234\u001b[0m |    \u001b[0;1;32m100\u001b[0m\n",
      "  \u001b[0;1;32m1\u001b[0m | \u001b[0;1;33mNOLA\u001b[0m |  \u001b[0;1;33mAdam\u001b[0m | \u001b[0;1;32m5551234\u001b[0m |     \u001b[0;1;32m60\u001b[0m\n",
      "  \u001b[0;1;32m2\u001b[0m |   \u001b[0;1;33mLA\u001b[0m |   \u001b[0;1;33mBob\u001b[0m | \u001b[0;1;32m3331234\u001b[0m |     \u001b[0;1;32m70\u001b[0m\n",
      "  \u001b[0;1;32m4\u001b[0m |  \u001b[0;1;33mBOS\u001b[0m |  \u001b[0;1;33mDave\u001b[0m | \u001b[0;1;32m9991234\u001b[0m |     \u001b[0;1;32m90\u001b[0m\n",
      "  \u001b[0;1;32m3\u001b[0m |  \u001b[0;1;33mNYC\u001b[0m | \u001b[0;1;33mChuck\u001b[0m | \u001b[0;1;32m6661234\u001b[0m |     \u001b[0;1;32m80\u001b[0m\n",
      "\n",
      "(5 rows)\n",
      "\n",
      "real\t0m0.567s\n",
      "user\t0m0.031s\n",
      "sys\t0m0.020s\n"
     ]
    }
   ],
   "source": [
    "!time docker exec -it cassandra cqlsh -e \"use elk_c;select * from employee limit 5\""
   ]
  },
  {
   "cell_type": "markdown",
   "metadata": {},
   "source": [
    "# stop & kill"
   ]
  },
  {
   "cell_type": "code",
   "execution_count": 30,
   "metadata": {},
   "outputs": [
    {
     "name": "stdout",
     "output_type": "stream",
     "text": [
      "cassandra\n",
      "cassandra\n"
     ]
    }
   ],
   "source": [
    "#!docker stop cassandra && docker rm cassandra\n",
    "# or restart\n",
    "# !docker restart cassandra"
   ]
  }
 ],
 "metadata": {
  "kernelspec": {
   "display_name": "Python 3",
   "language": "python",
   "name": "python3"
  },
  "language_info": {
   "codemirror_mode": {
    "name": "ipython",
    "version": 3
   },
   "file_extension": ".py",
   "mimetype": "text/x-python",
   "name": "python",
   "nbconvert_exporter": "python",
   "pygments_lexer": "ipython3",
   "version": "3.7.2"
  },
  "toc": {
   "base_numbering": 1,
   "nav_menu": {},
   "number_sections": false,
   "sideBar": false,
   "skip_h1_title": false,
   "title_cell": "contents",
   "title_sidebar": "contents",
   "toc_cell": false,
   "toc_position": {},
   "toc_section_display": false,
   "toc_window_display": false
  }
 },
 "nbformat": 4,
 "nbformat_minor": 2
}
