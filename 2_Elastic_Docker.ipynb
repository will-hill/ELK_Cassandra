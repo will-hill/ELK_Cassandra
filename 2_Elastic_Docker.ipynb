{
 "cells": [
  {
   "cell_type": "markdown",
   "metadata": {},
   "source": [
    "<img src='imgs/elastic.png' width='850'/>"
   ]
  },
  {
   "cell_type": "markdown",
   "metadata": {},
   "source": [
    "# docs"
   ]
  },
  {
   "cell_type": "markdown",
   "metadata": {},
   "source": [
    "https://www.elastic.co/guide/en/elasticsearch/reference/current/docker.html  \n",
    "https://www.youtube.com/watch?v=6bXSfjwQVIc  \n",
    "https://www.youtube.com/watch?v=WhXOdGhfE6o&list=PLBtyBPTlyC7sPQDrYOEcQC3d1txIwF299&index=1  \n",
    "https://www.youtube.com/watch?v=C3tlMqaNSaI  "
   ]
  },
  {
   "cell_type": "markdown",
   "metadata": {},
   "source": [
    "# config"
   ]
  },
  {
   "cell_type": "code",
   "execution_count": 1,
   "metadata": {},
   "outputs": [],
   "source": [
    "elastic_version    = '6.6.2'\n",
    "\n",
    "# h_ host, c_ container\n",
    "h_elastic_rest_port  = '9200'\n",
    "c_elastic_rest_port  = '9200'\n",
    "\n",
    "h_elastic_node_comms = '9300'\n",
    "c_elastic_node_comms = '9300'\n",
    "\n",
    "h_kibana_port        = '5601'\n",
    "c_kibana_port        = '5601'"
   ]
  },
  {
   "cell_type": "markdown",
   "metadata": {},
   "source": [
    "# elasticsearch docker"
   ]
  },
  {
   "cell_type": "code",
   "execution_count": 5,
   "metadata": {},
   "outputs": [
    {
     "name": "stdout",
     "output_type": "stream",
     "text": [
      "0b356edb921cc489cda1eb0cee0913715cca300b07f2d0a4814e2d279ec20ec5\r\n"
     ]
    }
   ],
   "source": [
    "# https://www.elastic.co/guide/en/elasticsearch/reference/current/docker.html\n",
    "# https://www.youtube.com/watch?v=6bXSfjwQVIc\n",
    "\n",
    "# -h hostanme\n",
    "# -it run CLI\n",
    "\n",
    "!docker run -d                                                \\\n",
    "            -p {h_elastic_rest_port}:{c_elastic_rest_port}    \\\n",
    "            -p {h_elastic_node_comms}:{c_elastic_node_comms}  \\\n",
    "            -e \"discovery.type=single-node\"                   \\\n",
    "            -it                                               \\\n",
    "            -h elasticsearch                                  \\\n",
    "            --name elasticsearch                              \\\n",
    "            elasticsearch:{elastic_version}\n",
    "\n",
    "            # docker.elastic.co/elasticsearch/elasticsearch:6.6.2            "
   ]
  },
  {
   "cell_type": "markdown",
   "metadata": {},
   "source": [
    "# validate"
   ]
  },
  {
   "cell_type": "code",
   "execution_count": 15,
   "metadata": {},
   "outputs": [
    {
     "name": "stdout",
     "output_type": "stream",
     "text": [
      "CONTAINER ID        IMAGE                 COMMAND                  CREATED             STATUS              PORTS                                                                                            NAMES\r\n",
      "16ea7c3998f3        kibana:6.6.2          \"/usr/local/bin/kiba…\"   39 minutes ago      Up 39 minutes       0.0.0.0:5601->5601/tcp                                                                           kibana\r\n",
      "0b356edb921c        elasticsearch:6.6.2   \"/usr/local/bin/dock…\"   39 minutes ago      Up 39 minutes       0.0.0.0:9200->9200/tcp, 0.0.0.0:9300->9300/tcp                                                   elasticsearch\r\n",
      "5fc0a2263690        cassandra:3.11        \"docker-entrypoint.s…\"   14 hours ago        Up 14 hours         7001/tcp, 127.0.0.1:9042->9042/tcp, 0.0.0.0:7000->7000/tcp, 7199/tcp, 127.0.0.1:9160->9160/tcp   cassandra\r\n"
     ]
    }
   ],
   "source": [
    "!docker ps"
   ]
  },
  {
   "cell_type": "markdown",
   "metadata": {},
   "source": [
    "http://localhost:9200/"
   ]
  },
  {
   "cell_type": "code",
   "execution_count": 2,
   "metadata": {},
   "outputs": [
    {
     "name": "stdout",
     "output_type": "stream",
     "text": [
      "CURL\n",
      "{\n",
      "  \"name\" : \"-FDixv3\",\n",
      "  \"cluster_name\" : \"docker-cluster\",\n",
      "  \"cluster_uuid\" : \"QP6RVJWoSdiN6AdTx8IsRA\",\n",
      "  \"version\" : {\n",
      "    \"number\" : \"6.6.2\",\n",
      "    \"build_flavor\" : \"default\",\n",
      "    \"build_type\" : \"tar\",\n",
      "    \"build_hash\" : \"3bd3e59\",\n",
      "    \"build_date\" : \"2019-03-06T15:16:26.864148Z\",\n",
      "    \"build_snapshot\" : false,\n",
      "    \"lucene_version\" : \"7.6.0\",\n",
      "    \"minimum_wire_compatibility_version\" : \"5.6.0\",\n",
      "    \"minimum_index_compatibility_version\" : \"5.0.0\"\n",
      "  },\n",
      "  \"tagline\" : \"You Know, for Search\"\n",
      "}\n",
      "\n",
      "WGET\n",
      "--2019-04-24 13:50:26--  http://localhost:9200/\n",
      "Resolving localhost (localhost)... ::1, 127.0.0.1\n",
      "Connecting to localhost (localhost)|::1|:9200... connected.\n",
      "HTTP request sent, awaiting response... 200 OK\n",
      "Length: 494 [application/json]\n",
      "Saving to: ‘STDOUT’\n",
      "\n",
      "-                     0%[                    ]       0  --.-KB/s               {\n",
      "  \"name\" : \"-FDixv3\",\n",
      "  \"cluster_name\" : \"docker-cluster\",\n",
      "  \"cluster_uuid\" : \"QP6RVJWoSdiN6AdTx8IsRA\",\n",
      "  \"version\" : {\n",
      "    \"number\" : \"6.6.2\",\n",
      "    \"build_flavor\" : \"default\",\n",
      "    \"build_type\" : \"tar\",\n",
      "    \"build_hash\" : \"3bd3e59\",\n",
      "    \"build_date\" : \"2019-03-06T15:16:26.864148Z\",\n",
      "    \"build_snapshot\" : false,\n",
      "    \"lucene_version\" : \"7.6.0\",\n",
      "    \"minimum_wire_compatibility_version\" : \"5.6.0\",\n",
      "    \"minimum_index_compatibility_version\" : \"5.0.0\"\n",
      "  },\n",
      "  \"tagline\" : \"You Know, for Search\"\n",
      "}\n",
      "-                   100%[===================>]     494  --.-KB/s    in 0s      \n",
      "\n",
      "2019-04-24 13:50:26 (39.3 MB/s) - written to stdout [494/494]\n",
      "\n"
     ]
    }
   ],
   "source": [
    "# if no curl, see next paragraph w/wget\n",
    "!echo 'CURL'\n",
    "!curl localhost:{h_elastic_rest_port}\n",
    "\n",
    "!echo\n",
    "!echo 'WGET'\n",
    "!wget -O - http://localhost:{h_elastic_rest_port}"
   ]
  },
  {
   "cell_type": "markdown",
   "metadata": {},
   "source": [
    "# stop & kill"
   ]
  },
  {
   "cell_type": "code",
   "execution_count": 11,
   "metadata": {},
   "outputs": [],
   "source": [
    "#!docker stop elasticsearch && docker rm elasticsearch"
   ]
  },
  {
   "cell_type": "markdown",
   "metadata": {},
   "source": [
    "# kibana docker"
   ]
  },
  {
   "cell_type": "code",
   "execution_count": 14,
   "metadata": {},
   "outputs": [
    {
     "name": "stdout",
     "output_type": "stream",
     "text": [
      "16ea7c3998f377114f15a253ed7119032c679110e6459bccf3f14e6391564d8f\r\n"
     ]
    }
   ],
   "source": [
    "!docker run -d                                  \\\n",
    "            -p {h_kibana_port}:{c_kibana_port}  \\\n",
    "            -h kibana                           \\\n",
    "            --name kibana                       \\\n",
    "            --link elasticsearch:elasticsearch  \\\n",
    "            kibana:{elastic_version}"
   ]
  },
  {
   "cell_type": "markdown",
   "metadata": {},
   "source": [
    "# validate"
   ]
  },
  {
   "cell_type": "markdown",
   "metadata": {},
   "source": [
    "http://localhost:5601"
   ]
  },
  {
   "cell_type": "code",
   "execution_count": null,
   "metadata": {},
   "outputs": [],
   "source": []
  }
 ],
 "metadata": {
  "kernelspec": {
   "display_name": "Python 3",
   "language": "python",
   "name": "python3"
  },
  "language_info": {
   "codemirror_mode": {
    "name": "ipython",
    "version": 3
   },
   "file_extension": ".py",
   "mimetype": "text/x-python",
   "name": "python",
   "nbconvert_exporter": "python",
   "pygments_lexer": "ipython3",
   "version": "3.7.2"
  },
  "toc": {
   "base_numbering": 1,
   "nav_menu": {},
   "number_sections": true,
   "sideBar": false,
   "skip_h1_title": true,
   "title_cell": "contents",
   "title_sidebar": "contents",
   "toc_cell": false,
   "toc_position": {},
   "toc_section_display": false,
   "toc_window_display": false
  }
 },
 "nbformat": 4,
 "nbformat_minor": 2
}
