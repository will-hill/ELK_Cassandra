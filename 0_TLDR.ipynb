{
 "cells": [
  {
   "cell_type": "markdown",
   "metadata": {},
   "source": [
    "<img src='imgs/cassandra.png' width='350'/>"
   ]
  },
  {
   "cell_type": "code",
   "execution_count": 81,
   "metadata": {},
   "outputs": [
    {
     "name": "stdout",
     "output_type": "stream",
     "text": [
      "19c4f2a0d24071d60040283965f93760ac15716dca041ba6f77ccdf613cf83a5\r\n"
     ]
    }
   ],
   "source": [
    "!docker run -d                   \\\n",
    "    -v ${PWD}/cassandra_vol:/ddl \\\n",
    "    -h cassandra                 \\\n",
    "    -p 7000:7000                 \\\n",
    "    -p 127.0.0.1:9042:9042       \\\n",
    "    -p 127.0.0.1:9160:9160       \\\n",
    "    --name cassandra             \\\n",
    "    cassandra:3.11"
   ]
  },
  {
   "cell_type": "code",
   "execution_count": 82,
   "metadata": {},
   "outputs": [
    {
     "name": "stdout",
     "output_type": "stream",
     "text": [
      "cqlsh 5.0.1\r\n"
     ]
    }
   ],
   "source": [
    "!docker exec -it cassandra cqlsh --version"
   ]
  },
  {
   "cell_type": "markdown",
   "metadata": {},
   "source": [
    "### ddl"
   ]
  },
  {
   "cell_type": "code",
   "execution_count": 86,
   "metadata": {},
   "outputs": [],
   "source": [
    "!docker exec -it cassandra cqlsh -e \\\n",
    "\"CREATE KEYSPACE elk_c WITH replication = {'class': 'NetworkTopologyStrategy', 'datacenter1': '2'} AND durable_writes = true\"\n",
    "!docker exec -it cassandra cqlsh -e \\\n",
    "\"use elk_c;CREATE TABLE employee(id int PRIMARY KEY,name text,city text,salary varint,phone varint)\""
   ]
  },
  {
   "cell_type": "markdown",
   "metadata": {},
   "source": [
    "### data"
   ]
  },
  {
   "cell_type": "code",
   "execution_count": 87,
   "metadata": {},
   "outputs": [
    {
     "name": "stdout",
     "output_type": "stream",
     "text": [
      "1,Adam,NOLA,60,5551234\r\n",
      "2,Bob,LA,70,3331234\r\n",
      "3,Chuck,NYC,80,6661234\r\n",
      "4,Dave,BOS,90,9991234\r\n",
      "5,Earl,RAL,100,1111234\r\n"
     ]
    }
   ],
   "source": [
    "employees_csv = open('cassandra_vol/employees.csv', 'w')\n",
    "\n",
    "# int , text , text , varint, varint\n",
    "# id ,  name , city , salary , phone\n",
    "employees_csv.write('1,Adam,NOLA,60,5551234\\n')\n",
    "employees_csv.write('2,Bob,LA,70,3331234\\n')\n",
    "employees_csv.write('3,Chuck,NYC,80,6661234\\n')\n",
    "employees_csv.write('4,Dave,BOS,90,9991234\\n')\n",
    "employees_csv.write('5,Earl,RAL,100,1111234\\n')\n",
    "\n",
    "employees_csv.flush()\n",
    "employees_csv.close()\n",
    "\n",
    "!cat cassandra_vol/employees.csv"
   ]
  },
  {
   "cell_type": "markdown",
   "metadata": {},
   "source": [
    "### insert"
   ]
  },
  {
   "cell_type": "code",
   "execution_count": 88,
   "metadata": {},
   "outputs": [
    {
     "name": "stdout",
     "output_type": "stream",
     "text": [
      "Using 9 child processes\n",
      "\n",
      "Starting copy of elk_c.employee with columns [id, name, city, salary, phone].\n",
      "Processed: 5 rows; Rate:      15 rows/s; Avg. rate:      15 rows/sProcessed: 5 rows; Rate:       8 rows/s; Avg. rate:      12 rows/s\n",
      "5 rows imported from 1 files in 0.433 seconds (0 skipped).\n"
     ]
    }
   ],
   "source": [
    "!docker exec -it cassandra cqlsh -e \\\n",
    "\"use elk_c; COPY employee(id,name,city,salary,phone) FROM '/ddl/employees.csv' WITH DELIMITER=','\""
   ]
  },
  {
   "cell_type": "code",
   "execution_count": 89,
   "metadata": {},
   "outputs": [
    {
     "name": "stdout",
     "output_type": "stream",
     "text": [
      "\r\n",
      " \u001b[0;1;31mid\u001b[0m | \u001b[0;1;35mcity\u001b[0m | \u001b[0;1;35mname\u001b[0m  | \u001b[0;1;35mphone\u001b[0m   | \u001b[0;1;35msalary\u001b[0m\r\n",
      "----+------+-------+---------+--------\r\n",
      "  \u001b[0;1;32m5\u001b[0m |  \u001b[0;1;33mRAL\u001b[0m |  \u001b[0;1;33mEarl\u001b[0m | \u001b[0;1;32m1111234\u001b[0m |    \u001b[0;1;32m100\u001b[0m\r\n",
      "  \u001b[0;1;32m1\u001b[0m | \u001b[0;1;33mNOLA\u001b[0m |  \u001b[0;1;33mAdam\u001b[0m | \u001b[0;1;32m5551234\u001b[0m |     \u001b[0;1;32m60\u001b[0m\r\n",
      "  \u001b[0;1;32m2\u001b[0m |   \u001b[0;1;33mLA\u001b[0m |   \u001b[0;1;33mBob\u001b[0m | \u001b[0;1;32m3331234\u001b[0m |     \u001b[0;1;32m70\u001b[0m\r\n",
      "  \u001b[0;1;32m4\u001b[0m |  \u001b[0;1;33mBOS\u001b[0m |  \u001b[0;1;33mDave\u001b[0m | \u001b[0;1;32m9991234\u001b[0m |     \u001b[0;1;32m90\u001b[0m\r\n",
      "  \u001b[0;1;32m3\u001b[0m |  \u001b[0;1;33mNYC\u001b[0m | \u001b[0;1;33mChuck\u001b[0m | \u001b[0;1;32m6661234\u001b[0m |     \u001b[0;1;32m80\u001b[0m\r\n",
      "\r\n",
      "(5 rows)\r\n"
     ]
    }
   ],
   "source": [
    "!docker exec -it cassandra cqlsh -e \"use elk_c;select * from employee\""
   ]
  },
  {
   "cell_type": "markdown",
   "metadata": {},
   "source": [
    "<img src='imgs/elastic.png' width='550'/>"
   ]
  },
  {
   "cell_type": "code",
   "execution_count": 90,
   "metadata": {},
   "outputs": [
    {
     "name": "stdout",
     "output_type": "stream",
     "text": [
      "b974dc5f7ea6e0dce8753a7feae9eefed8f214bb0cf8fcd7519040f279a8a1f2\r\n"
     ]
    }
   ],
   "source": [
    "elastic_version    = '6.6.2'\n",
    "h_elastic_rest_port  = '9200'\n",
    "c_elastic_rest_port  = '9200'\n",
    "h_elastic_node_comms = '9300'\n",
    "c_elastic_node_comms = '9300'\n",
    "\n",
    "!docker run -d                                                \\\n",
    "            -p {h_elastic_rest_port}:{c_elastic_rest_port}    \\\n",
    "            -p {h_elastic_node_comms}:{c_elastic_node_comms}  \\\n",
    "            -e \"discovery.type=single-node\"                   \\\n",
    "            -it                                               \\\n",
    "            -h elasticsearch                                  \\\n",
    "            --name elasticsearch                              \\\n",
    "            elasticsearch:{elastic_version}"
   ]
  },
  {
   "cell_type": "code",
   "execution_count": 91,
   "metadata": {},
   "outputs": [
    {
     "name": "stdout",
     "output_type": "stream",
     "text": [
      "{\r\n",
      "  \"name\" : \"Aou1WqJ\",\r\n",
      "  \"cluster_name\" : \"docker-cluster\",\r\n",
      "  \"cluster_uuid\" : \"dSTZs3ilRg-4CodwSwj1GA\",\r\n",
      "  \"version\" : {\r\n",
      "    \"number\" : \"6.6.2\",\r\n",
      "    \"build_flavor\" : \"default\",\r\n",
      "    \"build_type\" : \"tar\",\r\n",
      "    \"build_hash\" : \"3bd3e59\",\r\n",
      "    \"build_date\" : \"2019-03-06T15:16:26.864148Z\",\r\n",
      "    \"build_snapshot\" : false,\r\n",
      "    \"lucene_version\" : \"7.6.0\",\r\n",
      "    \"minimum_wire_compatibility_version\" : \"5.6.0\",\r\n",
      "    \"minimum_index_compatibility_version\" : \"5.0.0\"\r\n",
      "  },\r\n",
      "  \"tagline\" : \"You Know, for Search\"\r\n",
      "}\r\n"
     ]
    }
   ],
   "source": [
    "!wget http://localhost:9200/ -q -O -"
   ]
  },
  {
   "cell_type": "markdown",
   "metadata": {},
   "source": [
    "<img src='imgs/logstash.png' width='550'/>"
   ]
  },
  {
   "cell_type": "markdown",
   "metadata": {},
   "source": [
    "### jdbc driver"
   ]
  },
  {
   "cell_type": "code",
   "execution_count": 92,
   "metadata": {},
   "outputs": [
    {
     "name": "stdout",
     "output_type": "stream",
     "text": [
      "verify location:\n",
      "-rw-r--r--  1 Bhill  staff  7645422 Apr 24 10:06 logstash_vol/cassandra-jdbc-driver-1.3.jar\n",
      "\n",
      "verify class name:\n",
      "  6211 Mon Feb 11 15:37:56 EST 2019 com/dbschema/CassandraJdbcDriver.class\n"
     ]
    }
   ],
   "source": [
    "!echo 'verify location:'\n",
    "!ls -l   logstash_vol/cassandra-jdbc-driver-1.3.jar\n",
    "\n",
    "!echo\n",
    "!echo 'verify class name:'\n",
    "!jar tvf logstash_vol/cassandra-jdbc-driver-1.3.jar | grep CassandraJdbcDriver"
   ]
  },
  {
   "cell_type": "markdown",
   "metadata": {},
   "source": [
    "### config"
   ]
  },
  {
   "cell_type": "code",
   "execution_count": 93,
   "metadata": {},
   "outputs": [
    {
     "name": "stdout",
     "output_type": "stream",
     "text": [
      "input {\r\n",
      "  jdbc {\r\n",
      "    jdbc_driver_library    => \"/config-dir/cassandra-jdbc-driver-1.3.jar\"\r\n",
      "    jdbc_driver_class      => \"com.dbschema.CassandraJdbcDriver\"\r\n",
      "    jdbc_connection_string => \"jdbc:cassandra://cassandra:9042/elk_c\"\r\n",
      "    jdbc_user              => \"root\"\r\n",
      "    statement              => \"select id, city, name, cast(phone as int), cast(salary as int) from employee\"\r\n",
      "  }\r\n",
      "}\r\n",
      "output {  \r\n",
      "    elasticsearch {  \r\n",
      "\thosts => [\"elasticsearch:9200\"]  \r\n",
      "\tindex => \"employees\"\r\n",
      "    }  \r\n",
      "}  \r\n"
     ]
    }
   ],
   "source": [
    "!cat logstash_vol/logstash.cassandra.conf"
   ]
  },
  {
   "cell_type": "markdown",
   "metadata": {},
   "source": [
    "### load & quit ~ 40 seconds"
   ]
  },
  {
   "cell_type": "code",
   "execution_count": 94,
   "metadata": {},
   "outputs": [
    {
     "name": "stdout",
     "output_type": "stream",
     "text": [
      "Wed Apr 24 15:29:48 EDT 2019\n",
      "\n",
      "real\t0m39.427s\n",
      "user\t0m0.037s\n",
      "sys\t0m0.088s\n",
      "[2019-04-24T19:30:23,663][INFO ][com.datastax.driver.core.Cluster] New Cassandra host cassandra/172.17.0.2:9042 added\n",
      "[2019-04-24T19:30:23,979][INFO ][logstash.inputs.jdbc     ] (0.042816s) select id, city, name, cast(phone as int), cast(salary as int) from employee\n",
      "[2019-04-24T19:30:25,185][INFO ][logstash.pipeline        ] Pipeline has terminated {:pipeline_id=>\"main\", :thread=>\"#<Thread:0x44ad36f2 run>\"}\n",
      "[2019-04-24T19:30:27,224][INFO ][logstash.pipeline        ] Pipeline has terminated {:pipeline_id=>\".monitoring-logstash\", :thread=>\"#<Thread:0x58bb33ae run>\"}\n"
     ]
    }
   ],
   "source": [
    "!date\n",
    "!time docker run -h logstash                       \\\n",
    "            --name logstash                        \\\n",
    "            --link cassandra:cassandra             \\\n",
    "            --link elasticsearch:elasticsearch     \\\n",
    "            -it --rm                               \\\n",
    "            -v ${PWD}/logstash_vol:/config-dir     \\\n",
    "            logstash:6.6.2                         \\\n",
    "            -f /config-dir/logstash.cassandra.conf > logstash.log\n",
    "!tail -4 logstash.log                "
   ]
  },
  {
   "cell_type": "markdown",
   "metadata": {},
   "source": [
    "# query test"
   ]
  },
  {
   "cell_type": "code",
   "execution_count": 96,
   "metadata": {},
   "outputs": [
    {
     "name": "stdout",
     "output_type": "stream",
     "text": [
      "{\r\n",
      "  \"took\" : 14,\r\n",
      "  \"timed_out\" : false,\r\n",
      "  \"_shards\" : {\r\n",
      "    \"total\" : 5,\r\n",
      "    \"successful\" : 5,\r\n",
      "    \"skipped\" : 0,\r\n",
      "    \"failed\" : 0\r\n",
      "  },\r\n",
      "  \"hits\" : {\r\n",
      "    \"total\" : 1,\r\n",
      "    \"max_score\" : 0.9808292,\r\n",
      "    \"hits\" : [\r\n",
      "      {\r\n",
      "        \"_index\" : \"employees\",\r\n",
      "        \"_type\" : \"doc\",\r\n",
      "        \"_id\" : \"9erTUGoBeRgnlqHO4hKu\",\r\n",
      "        \"_score\" : 0.9808292,\r\n",
      "        \"_source\" : {\r\n",
      "          \"name\" : \"Adam\",\r\n",
      "          \"cast(salary as int)\" : 60,\r\n",
      "          \"@timestamp\" : \"2019-04-24T19:30:24.072Z\",\r\n",
      "          \"id\" : 1,\r\n",
      "          \"city\" : \"NOLA\",\r\n",
      "          \"cast(phone as int)\" : 5551234,\r\n",
      "          \"@version\" : \"1\"\r\n",
      "        }\r\n",
      "      }\r\n",
      "    ]\r\n",
      "  }\r\n",
      "}\r\n"
     ]
    }
   ],
   "source": [
    "!wget http://localhost:9200/employees/_search\\?pretty\\=true\\&q\\=city:NOLA -q -O -"
   ]
  },
  {
   "cell_type": "markdown",
   "metadata": {},
   "source": [
    "<img src='imgs/kibana.png' width='450' />"
   ]
  },
  {
   "cell_type": "code",
   "execution_count": 97,
   "metadata": {},
   "outputs": [
    {
     "name": "stdout",
     "output_type": "stream",
     "text": [
      "33e23278b121a4121b76f43b2d9d835ea38b68febfba2eaa36df8fb62a5f8638\r\n"
     ]
    }
   ],
   "source": [
    "h_kibana_port        = '5601'\n",
    "c_kibana_port        = '5601'\n",
    "!docker run -d                                  \\\n",
    "            -p {h_kibana_port}:{c_kibana_port}  \\\n",
    "            -h kibana                           \\\n",
    "            --name kibana                       \\\n",
    "            --link elasticsearch:elasticsearch  \\\n",
    "            kibana:{elastic_version}"
   ]
  },
  {
   "cell_type": "markdown",
   "metadata": {},
   "source": [
    "http://localhost:5601"
   ]
  },
  {
   "cell_type": "markdown",
   "metadata": {},
   "source": [
    "<img src='imgs/kibana_timelion.png' width='350' />"
   ]
  },
  {
   "cell_type": "markdown",
   "metadata": {},
   "source": [
    "# stop & kill"
   ]
  },
  {
   "cell_type": "code",
   "execution_count": 98,
   "metadata": {},
   "outputs": [
    {
     "name": "stdout",
     "output_type": "stream",
     "text": [
      "cassandra\n",
      "cassandra\n",
      "kibana\n",
      "kibana\n",
      "elasticsearch\n",
      "elasticsearch\n"
     ]
    }
   ],
   "source": [
    "!docker stop cassandra     && docker rm cassandra \n",
    "!docker stop kibana        && docker rm kibana\n",
    "!docker stop elasticsearch && docker rm elasticsearch"
   ]
  },
  {
   "cell_type": "code",
   "execution_count": 99,
   "metadata": {},
   "outputs": [
    {
     "name": "stdout",
     "output_type": "stream",
     "text": [
      "CONTAINER ID        IMAGE               COMMAND             CREATED             STATUS              PORTS               NAMES\r\n"
     ]
    }
   ],
   "source": [
    "!docker ps -a"
   ]
  }
 ],
 "metadata": {
  "kernelspec": {
   "display_name": "Python 3",
   "language": "python",
   "name": "python3"
  },
  "language_info": {
   "codemirror_mode": {
    "name": "ipython",
    "version": 3
   },
   "file_extension": ".py",
   "mimetype": "text/x-python",
   "name": "python",
   "nbconvert_exporter": "python",
   "pygments_lexer": "ipython3",
   "version": "3.7.2"
  },
  "toc": {
   "base_numbering": 1,
   "nav_menu": {},
   "number_sections": false,
   "sideBar": false,
   "skip_h1_title": false,
   "title_cell": "contents",
   "title_sidebar": "contents",
   "toc_cell": false,
   "toc_position": {},
   "toc_section_display": false,
   "toc_window_display": false
  }
 },
 "nbformat": 4,
 "nbformat_minor": 2
}
