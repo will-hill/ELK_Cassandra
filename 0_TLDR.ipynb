{
 "cells": [
  {
   "cell_type": "markdown",
   "metadata": {},
   "source": [
    "<img src='imgs/cassandra.png' width='350'/>"
   ]
  },
  {
   "cell_type": "code",
   "execution_count": 1,
   "metadata": {
    "scrolled": true
   },
   "outputs": [
    {
     "name": "stdout",
     "output_type": "stream",
     "text": [
      "62b814ad1b6f34ffa97b5c78ac8dd996c596cec238bfd51c827695594ea3ad77\r\n"
     ]
    }
   ],
   "source": [
    "!docker run -d                   \\\n",
    "    -v ${PWD}/cassandra_vol:/ddl \\\n",
    "    -h cassandra                 \\\n",
    "    -p 7000:7000                 \\\n",
    "    -p 127.0.0.1:9042:9042       \\\n",
    "    -p 127.0.0.1:9160:9160       \\\n",
    "    --name cassandra             \\\n",
    "    cassandra:3.11 "
   ]
  },
  {
   "cell_type": "markdown",
   "metadata": {},
   "source": [
    "### check readiness"
   ]
  },
  {
   "cell_type": "code",
   "execution_count": 2,
   "metadata": {},
   "outputs": [
    {
     "name": "stdout",
     "output_type": "stream",
     "text": [
      "Connection error: ('Unable to connect to any servers', {'127.0.0.1': error(111, \"Tried connecting to [('127.0.0.1', 9042)]. Last error: Connection refused\")})\n",
      "Connection error: ('Unable to connect to any servers', {'127.0.0.1': error(111, \"Tried connecting to [('127.0.0.1', 9042)]. Last error: Connection refused\")})\n",
      "Connection error: ('Unable to connect to any servers', {'127.0.0.1': error(111, \"Tried connecting to [('127.0.0.1', 9042)]. Last error: Connection refused\")})\n",
      "\n",
      "Cluster: Test Cluster\n",
      "Partitioner: Murmur3Partitioner\n",
      "\n",
      "C* is ready\n"
     ]
    }
   ],
   "source": [
    "!docker exec -it cassandra /bin/bash -c \"while ! cqlsh -e 'describe cluster' ; do sleep 5 ; done\"\n",
    "!echo \"C* is ready\""
   ]
  },
  {
   "cell_type": "markdown",
   "metadata": {},
   "source": [
    "### ddl"
   ]
  },
  {
   "cell_type": "code",
   "execution_count": 3,
   "metadata": {},
   "outputs": [],
   "source": [
    "!docker exec -it cassandra cqlsh -e \\\n",
    "\"CREATE KEYSPACE elk_c WITH replication = {'class': 'NetworkTopologyStrategy', 'datacenter1': '2'} AND durable_writes = true\"\n",
    "!docker exec -it cassandra cqlsh -e \\\n",
    "\"use elk_c;CREATE TABLE employee(id int PRIMARY KEY,name text,city text,salary varint,phone varint)\""
   ]
  },
  {
   "cell_type": "markdown",
   "metadata": {},
   "source": [
    "### data"
   ]
  },
  {
   "cell_type": "code",
   "execution_count": 4,
   "metadata": {},
   "outputs": [
    {
     "name": "stdout",
     "output_type": "stream",
     "text": [
      "1,Adam,NOLA,60,5551234\r\n",
      "2,Bob,LA,70,3331234\r\n",
      "3,Chuck,NYC,80,6661234\r\n",
      "4,Dave,BOS,90,9991234\r\n",
      "5,Earl,RAL,100,1111234\r\n"
     ]
    }
   ],
   "source": [
    "employees_csv = open('cassandra_vol/employees.csv', 'w')\n",
    "\n",
    "# int , text , text , varint, varint\n",
    "# id ,  name , city , salary , phone\n",
    "employees_csv.write('1,Adam,NOLA,60,5551234\\n')\n",
    "employees_csv.write('2,Bob,LA,70,3331234\\n')\n",
    "employees_csv.write('3,Chuck,NYC,80,6661234\\n')\n",
    "employees_csv.write('4,Dave,BOS,90,9991234\\n')\n",
    "employees_csv.write('5,Earl,RAL,100,1111234\\n')\n",
    "\n",
    "employees_csv.flush()\n",
    "employees_csv.close()\n",
    "\n",
    "!cat cassandra_vol/employees.csv"
   ]
  },
  {
   "cell_type": "markdown",
   "metadata": {},
   "source": [
    "### insert"
   ]
  },
  {
   "cell_type": "code",
   "execution_count": 5,
   "metadata": {},
   "outputs": [
    {
     "name": "stdout",
     "output_type": "stream",
     "text": [
      "Using 9 child processes\n",
      "\n",
      "Starting copy of elk_c.employee with columns [id, name, city, salary, phone].\n",
      "Processed: 5 rows; Rate:      16 rows/s; Avg. rate:      16 rows/sProcessed: 5 rows; Rate:       8 rows/s; Avg. rate:      12 rows/s\n",
      "5 rows imported from 1 files in 0.417 seconds (0 skipped).\n"
     ]
    }
   ],
   "source": [
    "!docker exec -it cassandra cqlsh -e \\\n",
    "\"use elk_c; COPY employee(id,name,city,salary,phone) FROM '/ddl/employees.csv' WITH DELIMITER=','\""
   ]
  },
  {
   "cell_type": "markdown",
   "metadata": {},
   "source": [
    "### query"
   ]
  },
  {
   "cell_type": "code",
   "execution_count": 6,
   "metadata": {},
   "outputs": [
    {
     "name": "stdout",
     "output_type": "stream",
     "text": [
      "\n",
      " \u001b[0;1;31mid\u001b[0m | \u001b[0;1;35mcity\u001b[0m | \u001b[0;1;35mname\u001b[0m  | \u001b[0;1;35mphone\u001b[0m   | \u001b[0;1;35msalary\u001b[0m\n",
      "----+------+-------+---------+--------\n",
      "  \u001b[0;1;32m5\u001b[0m |  \u001b[0;1;33mRAL\u001b[0m |  \u001b[0;1;33mEarl\u001b[0m | \u001b[0;1;32m1111234\u001b[0m |    \u001b[0;1;32m100\u001b[0m\n",
      "  \u001b[0;1;32m1\u001b[0m | \u001b[0;1;33mNOLA\u001b[0m |  \u001b[0;1;33mAdam\u001b[0m | \u001b[0;1;32m5551234\u001b[0m |     \u001b[0;1;32m60\u001b[0m\n",
      "  \u001b[0;1;32m2\u001b[0m |   \u001b[0;1;33mLA\u001b[0m |   \u001b[0;1;33mBob\u001b[0m | \u001b[0;1;32m3331234\u001b[0m |     \u001b[0;1;32m70\u001b[0m\n",
      "  \u001b[0;1;32m4\u001b[0m |  \u001b[0;1;33mBOS\u001b[0m |  \u001b[0;1;33mDave\u001b[0m | \u001b[0;1;32m9991234\u001b[0m |     \u001b[0;1;32m90\u001b[0m\n",
      "  \u001b[0;1;32m3\u001b[0m |  \u001b[0;1;33mNYC\u001b[0m | \u001b[0;1;33mChuck\u001b[0m | \u001b[0;1;32m6661234\u001b[0m |     \u001b[0;1;32m80\u001b[0m\n",
      "\n",
      "(5 rows)\n"
     ]
    }
   ],
   "source": [
    "!docker exec -it cassandra cqlsh -e \"use elk_c;select * from employee\""
   ]
  },
  {
   "cell_type": "markdown",
   "metadata": {},
   "source": [
    "<img src='imgs/elastic.png' width='550'/>"
   ]
  },
  {
   "cell_type": "code",
   "execution_count": 7,
   "metadata": {},
   "outputs": [
    {
     "name": "stdout",
     "output_type": "stream",
     "text": [
      "3fb65600def4bc0655fd9e02e9bcf48e8a155bba9837b2fcaec888c03581e42e\r\n"
     ]
    }
   ],
   "source": [
    "elastic_version    = '6.6.2'\n",
    "h_elastic_rest_port  = '9200'\n",
    "c_elastic_rest_port  = '9200'\n",
    "h_elastic_node_comms = '9300'\n",
    "c_elastic_node_comms = '9300'\n",
    "\n",
    "!docker run -d                                                \\\n",
    "            -p {h_elastic_rest_port}:{c_elastic_rest_port}    \\\n",
    "            -p {h_elastic_node_comms}:{c_elastic_node_comms}  \\\n",
    "            -e \"discovery.type=single-node\"                   \\\n",
    "            -it                                               \\\n",
    "            -h elasticsearch                                  \\\n",
    "            --name elasticsearch                              \\\n",
    "            elasticsearch:{elastic_version}"
   ]
  },
  {
   "cell_type": "code",
   "execution_count": 8,
   "metadata": {},
   "outputs": [
    {
     "name": "stdout",
     "output_type": "stream",
     "text": [
      "{\r\n",
      "  \"name\" : \"u8IFYNx\",\r\n",
      "  \"cluster_name\" : \"docker-cluster\",\r\n",
      "  \"cluster_uuid\" : \"tPor0MsASaCoxLp31bJJuw\",\r\n",
      "  \"version\" : {\r\n",
      "    \"number\" : \"6.6.2\",\r\n",
      "    \"build_flavor\" : \"default\",\r\n",
      "    \"build_type\" : \"tar\",\r\n",
      "    \"build_hash\" : \"3bd3e59\",\r\n",
      "    \"build_date\" : \"2019-03-06T15:16:26.864148Z\",\r\n",
      "    \"build_snapshot\" : false,\r\n",
      "    \"lucene_version\" : \"7.6.0\",\r\n",
      "    \"minimum_wire_compatibility_version\" : \"5.6.0\",\r\n",
      "    \"minimum_index_compatibility_version\" : \"5.0.0\"\r\n",
      "  },\r\n",
      "  \"tagline\" : \"You Know, for Search\"\r\n",
      "}\r\n"
     ]
    }
   ],
   "source": [
    "!wget http://localhost:9200/ -q -O -"
   ]
  },
  {
   "cell_type": "markdown",
   "metadata": {},
   "source": [
    "<img src='imgs/logstash.png' width='550'/>"
   ]
  },
  {
   "cell_type": "markdown",
   "metadata": {},
   "source": [
    "### jdbc driver"
   ]
  },
  {
   "cell_type": "code",
   "execution_count": 9,
   "metadata": {},
   "outputs": [
    {
     "name": "stdout",
     "output_type": "stream",
     "text": [
      "verify location:\n",
      "-rw-r--r--  1 Bhill  staff  7645422 Apr 24 10:06 logstash_vol/cassandra-jdbc-driver-1.3.jar\n",
      "\n",
      "verify class name:\n",
      "  6211 Mon Feb 11 15:37:56 EST 2019 com/dbschema/CassandraJdbcDriver.class\n"
     ]
    }
   ],
   "source": [
    "!echo 'verify location:'\n",
    "!ls -l   logstash_vol/cassandra-jdbc-driver-1.3.jar\n",
    "\n",
    "!echo\n",
    "!echo 'verify class name:'\n",
    "!jar tvf logstash_vol/cassandra-jdbc-driver-1.3.jar | grep CassandraJdbcDriver"
   ]
  },
  {
   "cell_type": "markdown",
   "metadata": {},
   "source": [
    "### config"
   ]
  },
  {
   "cell_type": "code",
   "execution_count": 10,
   "metadata": {},
   "outputs": [
    {
     "name": "stdout",
     "output_type": "stream",
     "text": [
      "input {\r\n",
      "  jdbc {\r\n",
      "    jdbc_driver_library    => \"/config-dir/cassandra-jdbc-driver-1.3.jar\"\r\n",
      "    jdbc_driver_class      => \"com.dbschema.CassandraJdbcDriver\"\r\n",
      "    jdbc_connection_string => \"jdbc:cassandra://cassandra:9042/elk_c\"\r\n",
      "    jdbc_user              => \"root\"\r\n",
      "    statement              => \"select id, city, name, cast(phone as int), cast(salary as int) from employee\"\r\n",
      "  }\r\n",
      "}\r\n",
      "output {  \r\n",
      "    elasticsearch {  \r\n",
      "\thosts => [\"elasticsearch:9200\"]  \r\n",
      "\tindex => \"employees\"\r\n",
      "    }  \r\n",
      "}  \r\n"
     ]
    }
   ],
   "source": [
    "!cat logstash_vol/logstash.cassandra.conf"
   ]
  },
  {
   "cell_type": "markdown",
   "metadata": {},
   "source": [
    "### load & quit ~ 40 seconds"
   ]
  },
  {
   "cell_type": "code",
   "execution_count": 11,
   "metadata": {},
   "outputs": [
    {
     "name": "stdout",
     "output_type": "stream",
     "text": [
      "Wed Apr 24 17:19:20 EDT 2019\n",
      "\n",
      "real\t0m41.231s\n",
      "user\t0m0.032s\n",
      "sys\t0m0.022s\n",
      "[2019-04-24T21:19:56,517][INFO ][com.datastax.driver.core.Cluster] New Cassandra host cassandra/172.17.0.2:9042 added\n",
      "[2019-04-24T21:19:56,862][INFO ][logstash.inputs.jdbc     ] (0.044362s) select id, city, name, cast(phone as int), cast(salary as int) from employee\n",
      "[2019-04-24T21:19:58,719][INFO ][logstash.pipeline        ] Pipeline has terminated {:pipeline_id=>\"main\", :thread=>\"#<Thread:0x6d1e781b run>\"}\n",
      "[2019-04-24T21:20:00,959][INFO ][logstash.pipeline        ] Pipeline has terminated {:pipeline_id=>\".monitoring-logstash\", :thread=>\"#<Thread:0x38584267 run>\"}\n"
     ]
    }
   ],
   "source": [
    "!date\n",
    "!time docker run -h logstash                       \\\n",
    "            --name logstash                        \\\n",
    "            --link cassandra:cassandra             \\\n",
    "            --link elasticsearch:elasticsearch     \\\n",
    "            -it --rm                               \\\n",
    "            -v ${PWD}/logstash_vol:/config-dir     \\\n",
    "            logstash:6.6.2                         \\\n",
    "            -f /config-dir/logstash.cassandra.conf > logstash.log\n",
    "!tail -4 logstash.log                "
   ]
  },
  {
   "cell_type": "markdown",
   "metadata": {},
   "source": [
    "# query test"
   ]
  },
  {
   "cell_type": "code",
   "execution_count": 12,
   "metadata": {},
   "outputs": [
    {
     "name": "stdout",
     "output_type": "stream",
     "text": [
      "{\r\n",
      "  \"took\" : 147,\r\n",
      "  \"timed_out\" : false,\r\n",
      "  \"_shards\" : {\r\n",
      "    \"total\" : 5,\r\n",
      "    \"successful\" : 5,\r\n",
      "    \"skipped\" : 0,\r\n",
      "    \"failed\" : 0\r\n",
      "  },\r\n",
      "  \"hits\" : {\r\n",
      "    \"total\" : 1,\r\n",
      "    \"max_score\" : 0.2876821,\r\n",
      "    \"hits\" : [\r\n",
      "      {\r\n",
      "        \"_index\" : \"employees\",\r\n",
      "        \"_type\" : \"doc\",\r\n",
      "        \"_id\" : \"rAs4UWoBQTO6dTyvL1pP\",\r\n",
      "        \"_score\" : 0.2876821,\r\n",
      "        \"_source\" : {\r\n",
      "          \"id\" : 1,\r\n",
      "          \"city\" : \"NOLA\",\r\n",
      "          \"cast(phone as int)\" : 5551234,\r\n",
      "          \"cast(salary as int)\" : 60,\r\n",
      "          \"@version\" : \"1\",\r\n",
      "          \"name\" : \"Adam\",\r\n",
      "          \"@timestamp\" : \"2019-04-24T21:19:56.946Z\"\r\n",
      "        }\r\n",
      "      }\r\n",
      "    ]\r\n",
      "  }\r\n",
      "}\r\n"
     ]
    }
   ],
   "source": [
    "!wget http://localhost:9200/employees/_search\\?pretty\\=true\\&q\\=city:NOLA -q -O -"
   ]
  },
  {
   "cell_type": "markdown",
   "metadata": {},
   "source": [
    "<img src='imgs/kibana.png' width='450' />"
   ]
  },
  {
   "cell_type": "code",
   "execution_count": 13,
   "metadata": {},
   "outputs": [
    {
     "name": "stdout",
     "output_type": "stream",
     "text": [
      "6fad332bc69d4746c672f35b3cbdbb7576822d388bf75535f1a4596064930ba7\r\n"
     ]
    }
   ],
   "source": [
    "h_kibana_port        = '5601'\n",
    "c_kibana_port        = '5601'\n",
    "!docker run -d                                  \\\n",
    "            -p {h_kibana_port}:{c_kibana_port}  \\\n",
    "            -h kibana                           \\\n",
    "            --name kibana                       \\\n",
    "            --link elasticsearch:elasticsearch  \\\n",
    "            kibana:{elastic_version}"
   ]
  },
  {
   "cell_type": "markdown",
   "metadata": {},
   "source": [
    "http://localhost:5601"
   ]
  },
  {
   "cell_type": "markdown",
   "metadata": {},
   "source": [
    "<img src='imgs/kibana_timelion.png' width='350' />"
   ]
  },
  {
   "cell_type": "markdown",
   "metadata": {},
   "source": [
    "# stop & kill"
   ]
  },
  {
   "cell_type": "code",
   "execution_count": 14,
   "metadata": {},
   "outputs": [
    {
     "name": "stdout",
     "output_type": "stream",
     "text": [
      "cassandra\n",
      "cassandra\n",
      "kibana\n",
      "kibana\n",
      "elasticsearch\n",
      "elasticsearch\n",
      "Error response from daemon: No such container: logstash\n"
     ]
    }
   ],
   "source": [
    "!docker stop cassandra     && docker rm cassandra \n",
    "!docker stop kibana        && docker rm kibana\n",
    "!docker stop elasticsearch && docker rm elasticsearch\n",
    "!docker stop logstash      && docker rm logstash"
   ]
  },
  {
   "cell_type": "code",
   "execution_count": 15,
   "metadata": {},
   "outputs": [
    {
     "name": "stdout",
     "output_type": "stream",
     "text": [
      "CONTAINER ID        IMAGE               COMMAND             CREATED             STATUS              PORTS               NAMES\r\n"
     ]
    }
   ],
   "source": [
    "!docker ps -a"
   ]
  },
  {
   "cell_type": "markdown",
   "metadata": {},
   "source": [
    "<img src='imgs/docker_compose.png' width='550' />"
   ]
  },
  {
   "cell_type": "markdown",
   "metadata": {},
   "source": [
    "# docker compose version"
   ]
  },
  {
   "cell_type": "code",
   "execution_count": 16,
   "metadata": {},
   "outputs": [
    {
     "name": "stdout",
     "output_type": "stream",
     "text": [
      "version: \"3\"\r\n",
      "services:\r\n",
      "  cassandra:\r\n",
      "    image: \"cassandra:3.11\"\r\n",
      "    hostname: \"cassandra\"\r\n",
      "    container_name: \"cassandra\"\r\n",
      "    ports:\r\n",
      "      - \"7000:7000\"\r\n",
      "      - \"9042:9042\"\r\n",
      "      - \"9160:9160\"\r\n",
      "    volumes:\r\n",
      "      - \"${PWD}/cassandra_vol:/ddl\"\r\n",
      "  elasticsearch:\r\n",
      "    image: \"elasticsearch:6.6.2\"\r\n",
      "    hostname: \"elasticsearch\"\r\n",
      "    container_name: elasticsearch\r\n",
      "    stdin_open: true\r\n",
      "    tty: true\r\n",
      "    ports:\r\n",
      "      - \"9200:9200\"\r\n",
      "      - \"9300:9300\"\r\n",
      "    environment:\r\n",
      "      - \"discovery.type=single-node\"\r\n",
      "  kibana:\r\n",
      "    image: \"kibana:6.6.2\"\r\n",
      "    hostname: \"kibana\"\r\n",
      "    container_name: \"kibana\"\r\n",
      "    ports:\r\n",
      "      - \"5601:5601\"\r\n",
      "    links:\r\n",
      "      - \"elasticsearch:elasticsearch\"\r\n",
      "  logstash:\r\n",
      "    image: \"logstash:6.6.2\"\r\n",
      "    hostname: \"logstash\"\r\n",
      "    container_name: \"logstash\"\r\n",
      "    stdin_open: true\r\n",
      "    tty: true\r\n",
      "    volumes:\r\n",
      "      - \"${PWD}/logstash_vol:/config-dir\"\r\n",
      "    links:\r\n",
      "      - \"cassandra:cassandra\"\r\n",
      "      - \"elasticsearch:elasticsearch\""
     ]
    }
   ],
   "source": [
    "!cat docker-compose.yml"
   ]
  },
  {
   "cell_type": "code",
   "execution_count": null,
   "metadata": {},
   "outputs": [],
   "source": [
    "# !docker-compose up -d"
   ]
  }
 ],
 "metadata": {
  "kernelspec": {
   "display_name": "Python 3",
   "language": "python",
   "name": "python3"
  },
  "language_info": {
   "codemirror_mode": {
    "name": "ipython",
    "version": 3
   },
   "file_extension": ".py",
   "mimetype": "text/x-python",
   "name": "python",
   "nbconvert_exporter": "python",
   "pygments_lexer": "ipython3",
   "version": "3.7.2"
  },
  "toc": {
   "base_numbering": 1,
   "nav_menu": {},
   "number_sections": false,
   "sideBar": false,
   "skip_h1_title": false,
   "title_cell": "contents",
   "title_sidebar": "contents",
   "toc_cell": false,
   "toc_position": {},
   "toc_section_display": false,
   "toc_window_display": false
  }
 },
 "nbformat": 4,
 "nbformat_minor": 2
}
